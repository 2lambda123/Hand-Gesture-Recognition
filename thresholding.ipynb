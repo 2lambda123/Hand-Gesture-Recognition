{
 "cells": [
  {
   "cell_type": "code",
   "execution_count": 11,
   "metadata": {},
   "outputs": [],
   "source": [
    "import os\n",
    "import numpy as np\n",
    "import cv2 as cv\n",
    "from utils import Utils"
   ]
  },
  {
   "cell_type": "code",
   "execution_count": 12,
   "metadata": {},
   "outputs": [],
   "source": [
    "\n",
    "menPath = \"../Dataset_0-5/men/\"\n",
    "womenPath = \"../Dataset_0-5/Women/\""
   ]
  },
  {
   "cell_type": "code",
   "execution_count": 13,
   "metadata": {},
   "outputs": [],
   "source": [
    "\n",
    "def getThresholdedHand(frame):\n",
    "    # Convert image to HSV\n",
    "    hsvim = cv.cvtColor(frame, cv.COLOR_BGR2HSV)\n",
    "    # Lower boundary of skin color in HSV\n",
    "    lower = np.array([0, 48, 80], dtype=\"uint8\")\n",
    "    # Upper boundary of skin color in HSV\n",
    "    upper = np.array([20, 255, 255], dtype=\"uint8\")\n",
    "    skinMask = cv.inRange(hsvim, lower, upper)\n",
    "\n",
    "    # Gaussian filter (blur) to remove noise\n",
    "    skinMask = cv.GaussianBlur(skinMask, (17, 17), 0)\n",
    "\n",
    "    # get thresholded image\n",
    "    # ret, thresh1 = cv.threshold(\n",
    "    # skinMask, 100, 255, cv.THRESH_BINARY+cv.THRESH_OTSU)\n",
    "    thresh1 = cv.adaptiveThreshold(\n",
    "        skinMask, 255, cv.ADAPTIVE_THRESH_MEAN_C, cv.THRESH_BINARY, 355, 5)\n",
    "\n",
    "    return thresh1"
   ]
  },
  {
   "cell_type": "code",
   "execution_count": 14,
   "metadata": {},
   "outputs": [],
   "source": [
    "\n",
    "# # while True:\n",
    "# class_dir = os.path.join(menPath, f\"{0}\")\n",
    "# imgPath = os.path.join(class_dir, f'{0}_men ({1}).JPG')\n",
    "# img = cv.imread(imgPath)\n",
    "# img = getThresholdedHand(img)\n",
    "# cv.imshow(\"img\", img)\n",
    "# cv.waitKey(0)\n",
    "# cv.destroyAllWindows()"
   ]
  },
  {
   "cell_type": "code",
   "execution_count": 15,
   "metadata": {},
   "outputs": [],
   "source": [
    "def getMaskedHand2(frame):\n",
    "        # Convert image to Lab\n",
    "        rgpImg = cv.cvtColor(frame, cv.COLOR_BGR2RGB)\n",
    "        labImg = cv.cvtColor(rgpImg, cv.COLOR_RGB2LAB)\n",
    "        # The values of L,A and B channels are  mapped  in  the  range  from  0  up  to  255 \n",
    "        \n",
    "        # print(labImg)\n",
    "        # print(labImg[:5, :5, 1])\n",
    "        # print(labImg[:5, :5, 2])\n",
    "        meanL = np.mean(labImg[:, :, 0])\n",
    "        meanA = np.mean(labImg[:, :, 1])\n",
    "        meanB = np.mean(labImg[:, :, 2])\n",
    "        stdL = np.std(labImg[:, :, 0])\n",
    "\n",
    "        print(meanL, meanA, meanB, stdL)\n",
    "        \n",
    "\n",
    "        if meanA + meanB <=256:\n",
    "                print(\"first\")\n",
    "                mask =labImg[:, :, 0] <= ( meanL - stdL/3)\n",
    "                labImg[mask] = np.ones(labImg[mask].shape)*255\n",
    "        else:\n",
    "                print(\"second\")\n",
    "                mask1 = labImg[:, :, 0] <  meanL\n",
    "                mask2 = labImg[:,:, 2] <  meanB\n",
    "                mask = mask1 & mask2\n",
    "                labImg[mask] = np.ones(labImg[mask].shape)*255\n",
    "        \n",
    "        rgpImg = cv.cvtColor(labImg, cv.COLOR_LAB2RGB)\n",
    "        # rgpImg[rgpImg == 255] = 191\n",
    "        # rgpImg[rgpImg[:,:,1]==70] = 188\n",
    "        # rgpImg[rgpImg[:,:,0]==0] = 189\n",
    "\n",
    "        kernel = np.ones((7, 7), np.uint8)\n",
    "        img_dilation = cv.dilate(rgpImg, kernel, iterations=1)\n",
    "        img_erosion = cv.erode(img_dilation, kernel, iterations=1)\n",
    "\n",
    "        # # Gaussian filter (blur) to remove noise\n",
    "        skinMask = cv.GaussianBlur(img_erosion, (17, 17), 0)\n",
    "        # greyImg = cv.cvtColor(skinMask,cv.COLOR_RGB2GRAY)\n",
    "      \n",
    "        # masked = cv.bitwise_and(greyImg, greyImg, mask=skinMask)\n",
    "        # maskedBlurred = cv.GaussianBlur(masked, (41, 41), 0)\n",
    "        return skinMask"
   ]
  },
  {
   "cell_type": "code",
   "execution_count": 16,
   "metadata": {},
   "outputs": [
    {
     "name": "stdout",
     "output_type": "stream",
     "text": [
      "211.1663156098626 130.63219285501864 134.06508122615526 52.726682961266\n",
      "second\n",
      "152.29212463964978 132.82492438003686 134.1406176322445 51.68971866537718\n",
      "second\n",
      "148.40268367144634 132.12532141833313 132.93554620520405 52.73099512023074\n",
      "second\n"
     ]
    },
    {
     "ename": "KeyboardInterrupt",
     "evalue": "",
     "output_type": "error",
     "traceback": [
      "\u001b[1;31m---------------------------------------------------------------------------\u001b[0m",
      "\u001b[1;31mKeyboardInterrupt\u001b[0m                         Traceback (most recent call last)",
      "\u001b[1;32md:\\CMP\\third_Year\\second_semester\\pattern Recognition\\project\\Hand-Gesture-Recognition\\thresholding.ipynb Cell 6\u001b[0m in \u001b[0;36m<cell line: 1>\u001b[1;34m()\u001b[0m\n\u001b[0;32m      <a href='vscode-notebook-cell:/d%3A/CMP/third_Year/second_semester/pattern%20Recognition/project/Hand-Gesture-Recognition/thresholding.ipynb#W5sZmlsZQ%3D%3D?line=1'>2</a>\u001b[0m out \u001b[39m=\u001b[39m getMaskedHand2(cv\u001b[39m.\u001b[39mimread(\u001b[39mf\u001b[39m\u001b[39m\"\u001b[39m\u001b[39mD:/CMP/third_Year/second_semester/pattern Recognition/project/Dataset_0-5/men/0/0_men (\u001b[39m\u001b[39m{\u001b[39;00mi\u001b[39m}\u001b[39;00m\u001b[39m).JPG\u001b[39m\u001b[39m\"\u001b[39m))\n\u001b[0;32m      <a href='vscode-notebook-cell:/d%3A/CMP/third_Year/second_semester/pattern%20Recognition/project/Hand-Gesture-Recognition/thresholding.ipynb#W5sZmlsZQ%3D%3D?line=2'>3</a>\u001b[0m \u001b[39m# cv.imshow(f\"shadow{i}\", out)\u001b[39;00m\n\u001b[1;32m----> <a href='vscode-notebook-cell:/d%3A/CMP/third_Year/second_semester/pattern%20Recognition/project/Hand-Gesture-Recognition/thresholding.ipynb#W5sZmlsZQ%3D%3D?line=3'>4</a>\u001b[0m getMasked \u001b[39m=\u001b[39m Utils\u001b[39m.\u001b[39;49mgetMaskedHand(out)\n\u001b[0;32m      <a href='vscode-notebook-cell:/d%3A/CMP/third_Year/second_semester/pattern%20Recognition/project/Hand-Gesture-Recognition/thresholding.ipynb#W5sZmlsZQ%3D%3D?line=4'>5</a>\u001b[0m cv\u001b[39m.\u001b[39mimshow(\u001b[39mf\u001b[39m\u001b[39m\"\u001b[39m\u001b[39mmaskedHand\u001b[39m\u001b[39m{\u001b[39;00mi\u001b[39m}\u001b[39;00m\u001b[39m\"\u001b[39m, cv\u001b[39m.\u001b[39mresize(getMasked, (\u001b[39m1024\u001b[39m, \u001b[39m512\u001b[39m)))\n\u001b[0;32m      <a href='vscode-notebook-cell:/d%3A/CMP/third_Year/second_semester/pattern%20Recognition/project/Hand-Gesture-Recognition/thresholding.ipynb#W5sZmlsZQ%3D%3D?line=5'>6</a>\u001b[0m cv\u001b[39m.\u001b[39mwaitKey(\u001b[39m0\u001b[39m)\n",
      "File \u001b[1;32md:\\CMP\\third_Year\\second_semester\\pattern Recognition\\project\\Hand-Gesture-Recognition\\utils.py:82\u001b[0m, in \u001b[0;36mUtils.getMaskedHand\u001b[1;34m(frame)\u001b[0m\n\u001b[0;32m     79\u001b[0m \u001b[39m@staticmethod\u001b[39m\n\u001b[0;32m     80\u001b[0m \u001b[39mdef\u001b[39;00m \u001b[39mgetMaskedHand\u001b[39m(frame):\n\u001b[0;32m     81\u001b[0m     \u001b[39m# Convert image to HSV\u001b[39;00m\n\u001b[1;32m---> 82\u001b[0m     hsvim \u001b[39m=\u001b[39m cv\u001b[39m.\u001b[39;49mcvtColor(frame, cv\u001b[39m.\u001b[39;49mCOLOR_BGR2HSV)\n\u001b[0;32m     83\u001b[0m     \u001b[39m# Lower boundary of skin color in HSV\u001b[39;00m\n\u001b[0;32m     84\u001b[0m     \u001b[39m# lower = np.array([0, 20, 70], dtype=\"uint8\")\u001b[39;00m\n\u001b[0;32m     85\u001b[0m     lower \u001b[39m=\u001b[39m np\u001b[39m.\u001b[39marray([\u001b[39m0\u001b[39m, \u001b[39m48\u001b[39m, \u001b[39m80\u001b[39m], dtype\u001b[39m=\u001b[39m\u001b[39m\"\u001b[39m\u001b[39muint8\u001b[39m\u001b[39m\"\u001b[39m)\n",
      "\u001b[1;31mKeyboardInterrupt\u001b[0m: "
     ]
    }
   ],
   "source": [
    "for i in range(1, 6):\n",
    "    out = getMaskedHand2(cv.imread(f\"D:/CMP/third_Year/second_semester/pattern Recognition/project/Dataset_0-5/men/0/0_men ({i}).JPG\"))\n",
    "    cv.imshow(f\"shadow{i}\",  cv.resize(out, (1024, 512)))\n",
    "    getMasked = Utils.getMaskedHand(out)\n",
    "    cv.imshow(f\"maskedHand{i}\", cv.resize(getMasked, (1024, 512)))\n",
    "    cv.waitKey(0)\n",
    "    cv.destroyAllWindows()"
   ]
  },
  {
   "cell_type": "code",
   "execution_count": null,
   "metadata": {},
   "outputs": [],
   "source": []
  },
  {
   "cell_type": "code",
   "execution_count": null,
   "metadata": {},
   "outputs": [],
   "source": []
  }
 ],
 "metadata": {
  "kernelspec": {
   "display_name": "base",
   "language": "python",
   "name": "python3"
  },
  "language_info": {
   "codemirror_mode": {
    "name": "ipython",
    "version": 3
   },
   "file_extension": ".py",
   "mimetype": "text/x-python",
   "name": "python",
   "nbconvert_exporter": "python",
   "pygments_lexer": "ipython3",
   "version": "3.9.12"
  },
  "orig_nbformat": 4
 },
 "nbformat": 4,
 "nbformat_minor": 2
}
