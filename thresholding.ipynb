{
 "cells": [
  {
   "cell_type": "code",
   "execution_count": 1,
   "metadata": {},
   "outputs": [],
   "source": [
    "import os\n",
    "import numpy as np\n",
    "import cv2 as cv"
   ]
  },
  {
   "cell_type": "code",
   "execution_count": 2,
   "metadata": {},
   "outputs": [],
   "source": [
    "\n",
    "menPath = \"../Dataset_0-5/men/\"\n",
    "womenPath = \"../Dataset_0-5/Women/\""
   ]
  },
  {
   "cell_type": "code",
   "execution_count": 3,
   "metadata": {},
   "outputs": [],
   "source": [
    "\n",
    "def getThresholdedHand(frame):\n",
    "    # Convert image to HSV\n",
    "    hsvim = cv.cvtColor(frame, cv.COLOR_BGR2HSV)\n",
    "    # Lower boundary of skin color in HSV\n",
    "    lower = np.array([0, 48, 80], dtype=\"uint8\")\n",
    "    # Upper boundary of skin color in HSV\n",
    "    upper = np.array([20, 255, 255], dtype=\"uint8\")\n",
    "    skinMask = cv.inRange(hsvim, lower, upper)\n",
    "\n",
    "    # Gaussian filter (blur) to remove noise\n",
    "    skinMask = cv.GaussianBlur(skinMask, (17, 17), 0)\n",
    "\n",
    "    # get thresholded image\n",
    "    # ret, thresh1 = cv.threshold(\n",
    "    # skinMask, 100, 255, cv.THRESH_BINARY+cv.THRESH_OTSU)\n",
    "    thresh1 = cv.adaptiveThreshold(\n",
    "        skinMask, 255, cv.ADAPTIVE_THRESH_MEAN_C, cv.THRESH_BINARY, 355, 5)\n",
    "\n",
    "    return thresh1"
   ]
  },
  {
   "cell_type": "code",
   "execution_count": 5,
   "metadata": {},
   "outputs": [],
   "source": [
    "\n",
    "# while True:\n",
    "class_dir = os.path.join(menPath, f\"{0}\")\n",
    "imgPath = os.path.join(class_dir, f'{0}_men ({100}).JPG')\n",
    "img = cv.imread(imgPath)\n",
    "img = getThresholdedHand(img)\n",
    "cv.imshow(\"img\", img)\n",
    "cv.waitKey(0)\n",
    "cv.destroyAllWindows()"
   ]
  },
  {
   "cell_type": "code",
   "execution_count": null,
   "metadata": {},
   "outputs": [],
   "source": []
  }
 ],
 "metadata": {
  "kernelspec": {
   "display_name": "base",
   "language": "python",
   "name": "python3"
  },
  "language_info": {
   "codemirror_mode": {
    "name": "ipython",
    "version": 3
   },
   "file_extension": ".py",
   "mimetype": "text/x-python",
   "name": "python",
   "nbconvert_exporter": "python",
   "pygments_lexer": "ipython3",
   "version": "3.9.16"
  },
  "orig_nbformat": 4
 },
 "nbformat": 4,
 "nbformat_minor": 2
}
