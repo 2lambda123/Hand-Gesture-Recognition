{
 "cells": [
  {
   "cell_type": "code",
   "execution_count": 1,
   "metadata": {},
   "outputs": [],
   "source": [
    "import os\n",
    "import numpy as np\n",
    "import cv2 as cv\n",
    "from utils import Utils"
   ]
  },
  {
   "cell_type": "code",
   "execution_count": 2,
   "metadata": {},
   "outputs": [],
   "source": [
    "\n",
    "menPath = \"../Dataset_0-5/men/\"\n",
    "womenPath = \"../Dataset_0-5/Women/\""
   ]
  },
  {
   "cell_type": "code",
   "execution_count": 3,
   "metadata": {},
   "outputs": [],
   "source": [
    "\n",
    "def getThresholdedHand(frame):\n",
    "    # Convert image to HSV\n",
    "    hsvim = cv.cvtColor(frame, cv.COLOR_BGR2HSV)\n",
    "    # Lower boundary of skin color in HSV\n",
    "    lower = np.array([0, 48, 80], dtype=\"uint8\")\n",
    "    # Upper boundary of skin color in HSV\n",
    "    upper = np.array([20, 255, 255], dtype=\"uint8\")\n",
    "    skinMask = cv.inRange(hsvim, lower, upper)\n",
    "\n",
    "    # Gaussian filter (blur) to remove noise\n",
    "    skinMask = cv.GaussianBlur(skinMask, (17, 17), 0)\n",
    "\n",
    "    # get thresholded image\n",
    "    # ret, thresh1 = cv.threshold(\n",
    "    # skinMask, 100, 255, cv.THRESH_BINARY+cv.THRESH_OTSU)\n",
    "    thresh1 = cv.adaptiveThreshold(\n",
    "        skinMask, 255, cv.ADAPTIVE_THRESH_MEAN_C, cv.THRESH_BINARY, 355, 5)\n",
    "\n",
    "    return thresh1"
   ]
  },
  {
   "cell_type": "code",
   "execution_count": 4,
   "metadata": {},
   "outputs": [],
   "source": [
    "\n",
    "# # while True:\n",
    "# class_dir = os.path.join(menPath, f\"{0}\")\n",
    "# imgPath = os.path.join(class_dir, f'{0}_men ({1}).JPG')\n",
    "# img = cv.imread(imgPath)\n",
    "# img = getThresholdedHand(img)\n",
    "# cv.imshow(\"img\", img)\n",
    "# cv.waitKey(0)\n",
    "# cv.destroyAllWindows()"
   ]
  },
  {
   "cell_type": "code",
   "execution_count": 166,
   "metadata": {},
   "outputs": [],
   "source": [
    "def getMaskedHand2(frame):\n",
    "        # Convert image to Lab\n",
    "        rgpImg = cv.cvtColor(frame, cv.COLOR_BGR2RGB)\n",
    "        labImg = cv.cvtColor(rgpImg, cv.COLOR_RGB2LAB)\n",
    "        # The values of L,A and B channels are  mapped  in  the  range  from  0  up  to  255 \n",
    "        meanL = np.mean(labImg[:, :, 0])\n",
    "        meanA = np.mean(labImg[:, :, 1])\n",
    "        meanB = np.mean(labImg[:, :, 2])\n",
    "        stdL = np.std(labImg[:, :, 0])\n",
    "        # stdB = np.std(labImg[:, :, 2])\n",
    "\n",
    "        if meanA + meanB <=256:\n",
    "                print(\"first\")\n",
    "                mask =labImg[:, :, 0] <= ( meanL - stdL/3)\n",
    "                labImg[mask] = np.array([255, 128, 128])\n",
    "                labImg[(~mask)] = np.array([0, 128, 128])\n",
    "        else:\n",
    "                print(\"second\")\n",
    "                mask1 = labImg[:, :, 0] <=  ( meanL )\n",
    "                mask2 = labImg[:,:, 2] <=  (meanB)\n",
    "                mask = mask1 & mask2\n",
    "                labImg[mask] = np.array([255, 128, 128])#white\n",
    "                labImg[(~mask)] = np.array([0, 128, 128])#black\n",
    "        \n",
    "        rgpImg2 = cv.cvtColor(labImg, cv.COLOR_LAB2RGB)\n",
    "        NormalizedImg = cv.normalize(rgpImg2, None, alpha=0, beta=1, norm_type=cv.NORM_MINMAX)\n",
    "\n",
    "        kernel = np.ones((13, 13), np.uint8)\n",
    "        img_dilation = cv.dilate(NormalizedImg, kernel, iterations=1)\n",
    "        img_erosion = cv.erode(img_dilation, kernel, iterations=1)\n",
    "        # Gaussian filter (blur) to remove noise\n",
    "        gaussImg = cv.GaussianBlur(img_erosion, (23, 23), 0)\n",
    "        # get the white and black pixels \n",
    "        white_pixels = (gaussImg == np.array([1, 1, 1])).all(axis=2)\n",
    "        black_pixels = (gaussImg == np.array([0, 0, 0])).all(axis=2)\n",
    "        # get the average of the white and black pixels in the original img\n",
    "        avgR_shadow = np.mean(rgpImg[:,:,0][white_pixels])#TODO: we should calculate the average of the shadow region\n",
    "        avgG_shadow = np.mean(rgpImg[:,:,1][white_pixels])\n",
    "        avgB_shadow = np.mean(rgpImg[:,:,2][white_pixels])\n",
    "        avgR_without = np.mean(rgpImg[:,:,0][black_pixels])\n",
    "        avgG_without = np.mean(rgpImg[:,:,1][black_pixels])\n",
    "        avgB_without = np.mean(rgpImg[:,:,2][black_pixels])\n",
    "        # replace the shadow pixels with the average of the shadow region\n",
    "        # rgpImg[white_pixels] = np.array([avgR_shadow, avgG_shadow, avgB_shadow])\n",
    "        # the ratio between the average of the shadow region and the average of the non-shadow region\n",
    "        ratioR =avgR_shadow/avgR_without\n",
    "        ratioG = avgG_shadow / avgG_without\n",
    "        ratioB = avgB_shadow / avgB_without\n",
    "        print(ratioR, ratioG, ratioB)\n",
    "\n",
    "        rgpImg[white_pixels]= np.array([ratioR, ratioG, ratioB]) \n",
    "        # To eliminate the over-illuminated pixels\n",
    "        rgpImg = cv.medianBlur(rgpImg, 17)\n",
    "        return rgpImg"
   ]
  },
  {
   "cell_type": "code",
   "execution_count": 167,
   "metadata": {},
   "outputs": [
    {
     "name": "stdout",
     "output_type": "stream",
     "text": [
      "second\n",
      "0.7596215385088455 0.7632772475252595 0.761414442934455\n",
      "second\n",
      "0.6404142345566991 0.6693096269486066 0.6840922610166067\n",
      "second\n",
      "0.658683990729366 0.682312850413912 0.6955177765119895\n",
      "second\n",
      "0.7148468251979377 0.7612649903291695 0.7841261485641784\n",
      "second\n",
      "0.5796254267089311 0.5671852519528883 0.5548968023699922\n"
     ]
    }
   ],
   "source": [
    "for i in range(1, 6):\n",
    "    out = getMaskedHand2(cv.imread(f\"D:/CMP/third_Year/second_semester/pattern Recognition/project/Dataset_0-5/men/2/2_men ({i}).JPG\"))\n",
    "    cv.imshow(f\"shadow{i}\",  cv.resize(out, (1024, 512)))\n",
    "    # getMasked = Utils.getMaskedHand(out)\n",
    "    # cv.imshow(f\"maskedHand{i}\", cv.resize(getMasked, (1024, 512)))\n",
    "    cv.waitKey(0)\n",
    "    cv.destroyAllWindows()"
   ]
  },
  {
   "cell_type": "code",
   "execution_count": null,
   "metadata": {},
   "outputs": [],
   "source": []
  }
 ],
 "metadata": {
  "kernelspec": {
   "display_name": "base",
   "language": "python",
   "name": "python3"
  },
  "language_info": {
   "codemirror_mode": {
    "name": "ipython",
    "version": 3
   },
   "file_extension": ".py",
   "mimetype": "text/x-python",
   "name": "python",
   "nbconvert_exporter": "python",
   "pygments_lexer": "ipython3",
   "version": "3.9.12"
  },
  "orig_nbformat": 4
 },
 "nbformat": 4,
 "nbformat_minor": 2
}
